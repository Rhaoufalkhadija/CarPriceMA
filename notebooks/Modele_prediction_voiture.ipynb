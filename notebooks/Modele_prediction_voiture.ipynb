{
 "cells": [
  {
   "cell_type": "code",
   "execution_count": null,
   "id": "cc491cba",
   "metadata": {},
   "outputs": [],
   "source": [
    "import pandas as pd\n",
    "import numpy as np\n",
    "from sklearn.model_selection import train_test_split, GridSearchCV\n",
    "from sklearn.metrics import mean_absolute_error, mean_squared_error, r2_score\n",
    "from xgboost import XGBRegressor\n",
    "import joblib\n",
    "import matplotlib.pyplot as plt"
   ]
  },
  {
   "cell_type": "code",
   "execution_count": null,
   "id": "a42bc7ad",
   "metadata": {},
   "outputs": [
    {
     "data": {
      "text/html": [
       "<div>\n",
       "<style scoped>\n",
       "    .dataframe tbody tr th:only-of-type {\n",
       "        vertical-align: middle;\n",
       "    }\n",
       "\n",
       "    .dataframe tbody tr th {\n",
       "        vertical-align: top;\n",
       "    }\n",
       "\n",
       "    .dataframe thead th {\n",
       "        text-align: right;\n",
       "    }\n",
       "</style>\n",
       "<table border=\"1\" class=\"dataframe\">\n",
       "  <thead>\n",
       "    <tr style=\"text-align: right;\">\n",
       "      <th></th>\n",
       "      <th>Prix</th>\n",
       "      <th>BoiteàV</th>\n",
       "      <th>Carburant</th>\n",
       "      <th>kilometrage</th>\n",
       "      <th>NBporte</th>\n",
       "      <th>Origine</th>\n",
       "      <th>Première main</th>\n",
       "      <th>Puissance fiscale</th>\n",
       "      <th>Etat</th>\n",
       "      <th>Age</th>\n",
       "      <th>...</th>\n",
       "      <th>Système de navigation/GPS</th>\n",
       "      <th>Radar de recul</th>\n",
       "      <th>ESP</th>\n",
       "      <th>ABS</th>\n",
       "      <th>Ordinateur de bord</th>\n",
       "      <th>Régulateur de vitesse</th>\n",
       "      <th>Sièges cuir</th>\n",
       "      <th>Toit ouvrant</th>\n",
       "      <th>Marque_freq</th>\n",
       "      <th>Modèle_freq</th>\n",
       "    </tr>\n",
       "  </thead>\n",
       "  <tbody>\n",
       "    <tr>\n",
       "      <th>0</th>\n",
       "      <td>155.0</td>\n",
       "      <td>0</td>\n",
       "      <td>0</td>\n",
       "      <td>-1.091239</td>\n",
       "      <td>5</td>\n",
       "      <td>1.0</td>\n",
       "      <td>0</td>\n",
       "      <td>-0.743596</td>\n",
       "      <td>1.0</td>\n",
       "      <td>-1.110065</td>\n",
       "      <td>...</td>\n",
       "      <td>0</td>\n",
       "      <td>0</td>\n",
       "      <td>0</td>\n",
       "      <td>0</td>\n",
       "      <td>0</td>\n",
       "      <td>0</td>\n",
       "      <td>0</td>\n",
       "      <td>0</td>\n",
       "      <td>0.109372</td>\n",
       "      <td>0.007227</td>\n",
       "    </tr>\n",
       "    <tr>\n",
       "      <th>1</th>\n",
       "      <td>180.0</td>\n",
       "      <td>1</td>\n",
       "      <td>0</td>\n",
       "      <td>-0.347864</td>\n",
       "      <td>5</td>\n",
       "      <td>1.0</td>\n",
       "      <td>0</td>\n",
       "      <td>-0.743596</td>\n",
       "      <td>3.0</td>\n",
       "      <td>-0.973507</td>\n",
       "      <td>...</td>\n",
       "      <td>0</td>\n",
       "      <td>0</td>\n",
       "      <td>0</td>\n",
       "      <td>0</td>\n",
       "      <td>0</td>\n",
       "      <td>0</td>\n",
       "      <td>0</td>\n",
       "      <td>0</td>\n",
       "      <td>0.086553</td>\n",
       "      <td>0.021852</td>\n",
       "    </tr>\n",
       "    <tr>\n",
       "      <th>2</th>\n",
       "      <td>225.0</td>\n",
       "      <td>1</td>\n",
       "      <td>0</td>\n",
       "      <td>-0.100072</td>\n",
       "      <td>5</td>\n",
       "      <td>1.0</td>\n",
       "      <td>0</td>\n",
       "      <td>-0.743596</td>\n",
       "      <td>2.0</td>\n",
       "      <td>-0.563833</td>\n",
       "      <td>...</td>\n",
       "      <td>1</td>\n",
       "      <td>1</td>\n",
       "      <td>1</td>\n",
       "      <td>1</td>\n",
       "      <td>0</td>\n",
       "      <td>0</td>\n",
       "      <td>0</td>\n",
       "      <td>0</td>\n",
       "      <td>0.057076</td>\n",
       "      <td>0.014852</td>\n",
       "    </tr>\n",
       "    <tr>\n",
       "      <th>3</th>\n",
       "      <td>130.0</td>\n",
       "      <td>0</td>\n",
       "      <td>0</td>\n",
       "      <td>0.891095</td>\n",
       "      <td>5</td>\n",
       "      <td>1.0</td>\n",
       "      <td>1</td>\n",
       "      <td>-0.743596</td>\n",
       "      <td>3.0</td>\n",
       "      <td>0.255515</td>\n",
       "      <td>...</td>\n",
       "      <td>0</td>\n",
       "      <td>0</td>\n",
       "      <td>0</td>\n",
       "      <td>0</td>\n",
       "      <td>0</td>\n",
       "      <td>0</td>\n",
       "      <td>0</td>\n",
       "      <td>0</td>\n",
       "      <td>0.109372</td>\n",
       "      <td>0.038923</td>\n",
       "    </tr>\n",
       "    <tr>\n",
       "      <th>4</th>\n",
       "      <td>148.0</td>\n",
       "      <td>0</td>\n",
       "      <td>0</td>\n",
       "      <td>0.271616</td>\n",
       "      <td>5</td>\n",
       "      <td>2.0</td>\n",
       "      <td>0</td>\n",
       "      <td>-0.743596</td>\n",
       "      <td>3.0</td>\n",
       "      <td>-0.154159</td>\n",
       "      <td>...</td>\n",
       "      <td>1</td>\n",
       "      <td>1</td>\n",
       "      <td>1</td>\n",
       "      <td>1</td>\n",
       "      <td>1</td>\n",
       "      <td>1</td>\n",
       "      <td>0</td>\n",
       "      <td>0</td>\n",
       "      <td>0.045524</td>\n",
       "      <td>0.011267</td>\n",
       "    </tr>\n",
       "  </tbody>\n",
       "</table>\n",
       "<p>5 rows × 28 columns</p>\n",
       "</div>"
      ],
      "text/plain": [
       "    Prix  BoiteàV  Carburant  kilometrage  NBporte  Origine  Première main  \\\n",
       "0  155.0        0          0    -1.091239        5      1.0              0   \n",
       "1  180.0        1          0    -0.347864        5      1.0              0   \n",
       "2  225.0        1          0    -0.100072        5      1.0              0   \n",
       "3  130.0        0          0     0.891095        5      1.0              1   \n",
       "4  148.0        0          0     0.271616        5      2.0              0   \n",
       "\n",
       "   Puissance fiscale  Etat       Age  ...  Système de navigation/GPS  \\\n",
       "0          -0.743596   1.0 -1.110065  ...                          0   \n",
       "1          -0.743596   3.0 -0.973507  ...                          0   \n",
       "2          -0.743596   2.0 -0.563833  ...                          1   \n",
       "3          -0.743596   3.0  0.255515  ...                          0   \n",
       "4          -0.743596   3.0 -0.154159  ...                          1   \n",
       "\n",
       "   Radar de recul  ESP  ABS  Ordinateur de bord  Régulateur de vitesse  \\\n",
       "0               0    0    0                   0                      0   \n",
       "1               0    0    0                   0                      0   \n",
       "2               1    1    1                   0                      0   \n",
       "3               0    0    0                   0                      0   \n",
       "4               1    1    1                   1                      1   \n",
       "\n",
       "   Sièges cuir  Toit ouvrant  Marque_freq  Modèle_freq  \n",
       "0            0             0     0.109372     0.007227  \n",
       "1            0             0     0.086553     0.021852  \n",
       "2            0             0     0.057076     0.014852  \n",
       "3            0             0     0.109372     0.038923  \n",
       "4            0             0     0.045524     0.011267  \n",
       "\n",
       "[5 rows x 28 columns]"
      ]
     },
     "metadata": {},
     "output_type": "display_data"
    }
   ],
   "source": [
    "# -----------------------------\n",
    "# 1. Charger les données nettoyées (déjà encodées et transformées)\n",
    "# -----------------------------\n",
    "df_transformed = pd.read_csv(\"avito_pfm_transformed.csv\")  # remplace par le bon nom du fichier\n",
    "df = df_transformed.copy()\n",
    "df.head()  # adapte si tu charges autrement\n",
    "# -----------------------------"
   ]
  },
  {
   "cell_type": "code",
   "execution_count": null,
   "id": "4bf0cd6b",
   "metadata": {},
   "outputs": [],
   "source": [
    "# Séparer X et y\n",
    "y = df['Prix']\n",
    "X = df.drop('Prix', axis=1)"
   ]
  },
  {
   "cell_type": "code",
   "execution_count": null,
   "id": "0139a5e6",
   "metadata": {},
   "outputs": [],
   "source": [
    "# Split\n",
    "X_train, X_test, y_train, y_test = train_test_split(X, y, test_size=0.2, random_state=42)"
   ]
  },
  {
   "cell_type": "code",
   "execution_count": null,
   "id": "6d0a465a",
   "metadata": {},
   "outputs": [
    {
     "name": "stdout",
     "output_type": "stream",
     "text": [
      "Fitting 5 folds for each of 48 candidates, totalling 240 fits\n",
      "Meilleurs paramètres: {'learning_rate': 0.1, 'max_depth': 5, 'n_estimators': 200, 'reg_alpha': 0, 'reg_lambda': 1}\n"
     ]
    }
   ],
   "source": [
    "# Modèle avec GridSearch\n",
    "model = XGBRegressor(objective='reg:squarederror', random_state=42)\n",
    "param_grid = {\n",
    "    'n_estimators': [100, 200],\n",
    "    'max_depth': [3, 4, 5],\n",
    "    'learning_rate': [0.05, 0.1],\n",
    "    'reg_alpha': [0, 0.1],\n",
    "    'reg_lambda': [1, 2]\n",
    "}\n",
    "grid = GridSearchCV(model, param_grid, scoring='r2', cv=5, verbose=1)\n",
    "grid.fit(X_train, y_train)\n",
    "\n",
    "best_model = grid.best_estimator_\n",
    "print(\"Meilleurs paramètres:\", grid.best_params_)"
   ]
  },
  {
   "cell_type": "code",
   "execution_count": null,
   "id": "a43d7741",
   "metadata": {},
   "outputs": [
    {
     "name": "stdout",
     "output_type": "stream",
     "text": [
      "Test R²: 0.59\n",
      "MAE: 29.55\n",
      "RMSE: 92.70\n"
     ]
    }
   ],
   "source": [
    "# Évaluation\n",
    "y_pred = best_model.predict(X_test)\n",
    "print(f\"Test R²: {r2_score(y_test, y_pred):.2f}\")\n",
    "print(f\"MAE: {mean_absolute_error(y_test, y_pred):.2f}\")\n",
    "print(f\"RMSE: {np.sqrt(mean_squared_error(y_test, y_pred)):.2f}\")"
   ]
  },
  {
   "cell_type": "code",
   "execution_count": null,
   "id": "7d2a24fc",
   "metadata": {},
   "outputs": [
    {
     "data": {
      "image/png": "[encoded data removed]",
      "text/plain": [
       "<Figure size 640x480 with 1 Axes>"
      ]
     },
     "metadata": {},
     "output_type": "display_data"
    }
   ],
   "source": [
    "# Graphique\n",
    "plt.scatter(y_test, y_pred, alpha=0.5)\n",
    "plt.plot([y_test.min(), y_test.max()], [y_test.min(), y_test.max()], '--r')\n",
    "plt.xlabel(\"Prix réel\")\n",
    "plt.ylabel(\"Prix prédit\")\n",
    "plt.title(\"XGBoost - Réel vs Prédit\")\n",
    "plt.grid(True)\n",
    "plt.show()"
   ]
  },
  {
   "cell_type": "code",
   "execution_count": null,
   "id": "af886c37",
   "metadata": {},
   "outputs": [
    {
     "data": {
      "text/plain": [
       "['xgb_model_voiture_transformed.pkl']"
      ]
     },
     "metadata": {},
     "output_type": "display_data"
    }
   ],
   "source": [
    "# Sauvegarde\n",
    "joblib.dump(best_model, \"xgb_model_voiture_transformed.pkl\")"
   ]
  },
  {
   "cell_type": "code",
   "execution_count": null,
   "id": "825a2914",
   "metadata": {},
   "outputs": [
    {
     "name": "stdout",
     "output_type": "stream",
     "text": [
      "💰 Prix estimé : 134.61 K DH\n"
     ]
    }
   ],
   "source": [
    "# Chargement du modèle\n",
    "model = joblib.load(\"xgb_model_voiture_transformed.pkl\")\n",
    "\n",
    "# Exemple de voiture\n",
    "voiture = pd.DataFrame([{\n",
    "    'BoiteàV': 1,\n",
    "    'Carburant': 1,\n",
    "    'kilometrage': -0.90,  # déstandardisé\n",
    "    'NBporte': 5,\n",
    "    'Origine': 1.0,         # même encodage que dataset\n",
    "    'Première main': 1.0,\n",
    "    'Puissance fiscale': -0.75,\n",
    "    'Etat': 1.0,\n",
    "    'Age': -0.60,\n",
    "    'Limiteur de vitesse': 1,\n",
    "    'Jantes aluminium': 0,\n",
    "    'CD/MP3/Bluetooth': 1,\n",
    "    'Climatisation': 1,\n",
    "    'Vitres électriques': 1,\n",
    "    'Verrouillage centralisé à distance': 0,\n",
    "    'Airbags': 1,\n",
    "    'Caméra de recul': 1,\n",
    "    'Système de navigation/GPS': 1,\n",
    "    'Radar de recul': 0,\n",
    "    'ESP': 1,\n",
    "    'ABS': 1,\n",
    "    'Ordinateur de bord': 1,\n",
    "    'Régulateur de vitesse': 1,\n",
    "    'Sièges cuir': 0,\n",
    "    'Toit ouvrant': 0,\n",
    "    'Marque_freq': 0.09,\n",
    "    'Modèle_freq': 0.01\n",
    "}])\n",
    "\n",
    "# Prédiction\n",
    "prix_estime = model.predict(voiture)\n",
    "print(f\"💰 Prix estimé : {prix_estime[0]:.2f} K DH\")"
   ]
  },
  {
   "cell_type": "code",
   "execution_count": null,
   "id": "d16b1452",
   "metadata": {},
   "outputs": [
    {
     "name": "stdout",
     "output_type": "stream",
     "text": [
      "💰 Prix estimé : 204.58 K DH\n"
     ]
    }
   ],
   "source": [
    "# Exemple de voiture\n",
    "voiture_test_2 = pd.DataFrame([{\n",
    "    'BoiteàV': 1,\n",
    "    'Carburant': 0,\n",
    "    'kilometrage': -0.75,  # Déstandardisé\n",
    "    'NBporte': 5,\n",
    "    'Origine': 1.0,\n",
    "    'Première main': 1.0,\n",
    "    'Puissance fiscale': -0.75,\n",
    "    'Etat': 1.0,\n",
    "    'Age': -0.60,\n",
    "    'Limiteur de vitesse': 1,\n",
    "    'Jantes aluminium': 0,\n",
    "    'CD/MP3/Bluetooth': 1,\n",
    "    'Climatisation': 1,\n",
    "    'Vitres électriques': 1,\n",
    "    'Verrouillage centralisé à distance': 1,\n",
    "    'Airbags': 1,\n",
    "    'Caméra de recul': 1,\n",
    "    'Système de navigation/GPS': 1,\n",
    "    'Radar de recul': 0,\n",
    "    'ESP': 1,\n",
    "    'ABS': 1,\n",
    "    'Ordinateur de bord': 1,\n",
    "    'Régulateur de vitesse': 1,\n",
    "    'Sièges cuir': 1,\n",
    "    'Toit ouvrant': 0,\n",
    "    'Marque_freq': 0.09,\n",
    "    'Modèle_freq': 0.01\n",
    "}])\n",
    "\n",
    "# Prédiction\n",
    "prix_estime_2 = model.predict(voiture_test_2)\n",
    "print(f\"💰 Prix estimé : {prix_estime_2[0]:.2f} K DH\")"
   ]
  }
 ],
 "metadata": {
  "language_info": {
   "name": "python"
  }
 },
 "nbformat": 4,
 "nbformat_minor": 5
}
